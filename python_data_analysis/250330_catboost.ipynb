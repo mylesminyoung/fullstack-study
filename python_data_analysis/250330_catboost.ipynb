{
 "cells": [
  {
   "cell_type": "code",
   "execution_count": null,
   "metadata": {},
   "outputs": [
    {
     "name": "stdout",
     "output_type": "stream",
     "text": [
      "[1.56803954 1.99942541 1.60150526 2.19493465]\n"
     ]
    }
   ],
   "source": [
    "from catboost import CatBoostRegressor\n",
    "import pandas as pd\n",
    "\n",
    "# 예제 데이터\n",
    "data = pd.DataFrame({\n",
    "    'category': ['과일', '야채', '과일', '음료'],\n",
    "    'price': [1000, 2000, 1500, 1800],\n",
    "    'param_a': [0.1, 0.3, 0.2, 0.4],\n",
    "    'param_b': [1.5, 2.0, 1.6, 2.2]  # 예측하려는 값\n",
    "})\n",
    "\n",
    "# 특성과 타겟 분리\n",
    "X = data[['category', 'price', 'param_a']]\n",
    "y = data['param_b']\n",
    "\n",
    "# CatBoost 모델 생성\n",
    "model = CatBoostRegressor(verbose=0)\n",
    "\n",
    "# 범주형 컬럼 이름 알려주기\n",
    "model.fit(X, y, cat_features=['category'])\n",
    "\n",
    "# 예측하기\n",
    "y_pred = model.predict(X)\n",
    "print(y_pred)\n"
   ]
  },
  {
   "cell_type": "code",
   "execution_count": 1,
   "metadata": {},
   "outputs": [
    {
     "name": "stdout",
     "output_type": "stream",
     "text": [
      "📊 CatBoost 회귀 모델 성능 (개선된 데이터):\n",
      "MAE  (Mean Absolute Error)     : 0.0426\n",
      "MSE  (Mean Squared Error)      : 0.0027\n",
      "RMSE (Root Mean Squared Error) : 0.0524\n",
      "R²   (R-squared)                : 0.9727\n",
      "\n",
      "📌 샘플 10개 예측 vs 실제값:\n",
      "        예측값       실제값\n",
      "0  0.103682  0.125849\n",
      "1  0.892821  0.894863\n",
      "2  0.778655  0.792062\n",
      "3  0.247803  0.339545\n",
      "4  0.410762  0.379329\n",
      "5  0.891521  0.923113\n",
      "6  0.288612  0.381173\n",
      "7  1.037189  1.070816\n",
      "8  1.262851  1.221880\n",
      "9  0.576163  0.618873\n"
     ]
    }
   ],
   "source": [
    "from catboost import CatBoostRegressor\n",
    "from sklearn.model_selection import train_test_split\n",
    "from sklearn.metrics import mean_absolute_error, mean_squared_error, r2_score\n",
    "import pandas as pd\n",
    "import numpy as np\n",
    "\n",
    "# 랜덤 시드 고정\n",
    "np.random.seed(42)\n",
    "\n",
    "# 카테고리 생성\n",
    "categories = ['과일', '야채', '음료', '과자', '유제품', '육류', '해산물', '곡물', '냉동식품', '조미료']\n",
    "\n",
    "# 데이터 생성\n",
    "data = pd.DataFrame({\n",
    "    'category': np.random.choice(categories, size=1000),\n",
    "    'price': np.random.randint(1000, 100001, size=1000),\n",
    "    'param_a': np.random.uniform(0.1, 200.0, size=1000)\n",
    "})\n",
    "\n",
    "# ✅ param_b에 예측 가능한 구조를 추가\n",
    "data['param_b'] = (\n",
    "    0.00001 * data['price'] +     # price 영향\n",
    "    0.002 * data['param_a'] +     # param_a 영향\n",
    "    np.random.normal(0, 0.05, size=1000)  # 약간의 노이즈\n",
    ")\n",
    "\n",
    "# 특성과 타겟 분리\n",
    "X = data[['category', 'price', 'param_a']]\n",
    "y = data['param_b']\n",
    "\n",
    "# 훈련/테스트 분리\n",
    "X_train, X_test, y_train, y_test = train_test_split(X, y, test_size=0.25, random_state=42)\n",
    "\n",
    "# 모델 생성 및 훈련\n",
    "model = CatBoostRegressor(verbose=0)\n",
    "model.fit(X_train, y_train, cat_features=['category'])\n",
    "\n",
    "# 예측\n",
    "y_pred = model.predict(X_test)\n",
    "\n",
    "# 성능 평가\n",
    "mae = mean_absolute_error(y_test, y_pred)\n",
    "mse = mean_squared_error(y_test, y_pred)\n",
    "rmse = np.sqrt(mse)\n",
    "r2 = r2_score(y_test, y_pred)\n",
    "\n",
    "# 출력\n",
    "print(\"📊 CatBoost 회귀 모델 성능 (개선된 데이터):\")\n",
    "print(f\"MAE  (Mean Absolute Error)     : {mae:.4f}\")\n",
    "print(f\"MSE  (Mean Squared Error)      : {mse:.4f}\")\n",
    "print(f\"RMSE (Root Mean Squared Error) : {rmse:.4f}\")\n",
    "print(f\"R²   (R-squared)                : {r2:.4f}\")\n",
    "\n",
    "# 샘플 10개 출력\n",
    "sample_df = pd.DataFrame({\n",
    "    '예측값': y_pred[:10],\n",
    "    '실제값': y_test.values[:10]\n",
    "})\n",
    "print(\"\\n📌 샘플 10개 예측 vs 실제값:\")\n",
    "print(sample_df)\n"
   ]
  },
  {
   "cell_type": "markdown",
   "metadata": {},
   "source": [
    "## Catboost 학습 데이터 저장 (catboost_model.cbm)"
   ]
  },
  {
   "cell_type": "code",
   "execution_count": 10,
   "metadata": {},
   "outputs": [
    {
     "name": "stdout",
     "output_type": "stream",
     "text": [
      "✅ 모델이 'catboost_model.cbm' 파일로 저장되었습니다.\n"
     ]
    }
   ],
   "source": [
    "from catboost import CatBoostRegressor\n",
    "from sklearn.model_selection import train_test_split\n",
    "from sklearn.metrics import mean_absolute_error, mean_squared_error, r2_score\n",
    "import pandas as pd\n",
    "import numpy as np\n",
    "\n",
    "# 랜덤 시드 고정\n",
    "np.random.seed(42)\n",
    "\n",
    "# 데이터 생성\n",
    "categories = ['과일', '야채', '음료', '과자', '유제품', '육류', '해산물', '곡물', '냉동식품', '조미료']\n",
    "data = pd.DataFrame({\n",
    "    'category': np.random.choice(categories, size=1000),\n",
    "    'price': np.random.randint(1000, 100001, size=1000),\n",
    "    'param_a': np.random.uniform(0.1, 200.0, size=1000)\n",
    "})\n",
    "data['param_b'] = (\n",
    "    0.00001 * data['price'] +\n",
    "    0.002 * data['param_a'] +\n",
    "    np.random.normal(0, 0.05, size=1000)\n",
    ")\n",
    "\n",
    "# 데이터 분리\n",
    "X = data[['category', 'price', 'param_a']]\n",
    "y = data['param_b']\n",
    "X_train, X_test, y_train, y_test = train_test_split(X, y, test_size=0.25, random_state=42)\n",
    "\n",
    "# CatBoost 모델 학습\n",
    "model = CatBoostRegressor(verbose=0)\n",
    "model.fit(X_train, y_train, cat_features=['category'])\n",
    "\n",
    "# 모델 저장\n",
    "model.save_model(\"catboost_model.cbm\")\n",
    "print(\"✅ 모델이 'catboost_model.cbm' 파일로 저장되었습니다.\")\n"
   ]
  },
  {
   "cell_type": "markdown",
   "metadata": {},
   "source": [
    "## 저장된 Catboost 모델을 불러와 예측 실행"
   ]
  },
  {
   "cell_type": "code",
   "execution_count": 11,
   "metadata": {},
   "outputs": [
    {
     "name": "stdout",
     "output_type": "stream",
     "text": [
      "✅ 저장된 모델을 불러왔습니다.\n",
      "📊 저장된 모델 예측 결과:\n",
      "MAE  : 0.0426\n",
      "RMSE : 0.0524\n",
      "R²   : 0.9727\n"
     ]
    }
   ],
   "source": [
    "from catboost import CatBoostRegressor\n",
    "from sklearn.metrics import mean_absolute_error, mean_squared_error, r2_score\n",
    "import pandas as pd\n",
    "import numpy as np\n",
    "\n",
    "# 동일한 데이터 생성 (훈련은 안 함, 단지 테스트셋 필요)\n",
    "np.random.seed(42)\n",
    "categories = ['과일', '야채', '음료', '과자', '유제품', '육류', '해산물', '곡물', '냉동식품', '조미료']\n",
    "data = pd.DataFrame({\n",
    "    'category': np.random.choice(categories, size=1000),\n",
    "    'price': np.random.randint(1000, 100001, size=1000),\n",
    "    'param_a': np.random.uniform(0.1, 200.0, size=1000)\n",
    "})\n",
    "data['param_b'] = (\n",
    "    0.00001 * data['price'] +\n",
    "    0.002 * data['param_a'] +\n",
    "    np.random.normal(0, 0.05, size=1000)\n",
    ")\n",
    "\n",
    "X = data[['category', 'price', 'param_a']]\n",
    "y = data['param_b']\n",
    "_, X_test, _, y_test = train_test_split(X, y, test_size=0.25, random_state=42)\n",
    "\n",
    "# 저장된 모델 불러오기\n",
    "model = CatBoostRegressor()\n",
    "model.load_model(\"catboost_model.cbm\")\n",
    "print(\"✅ 저장된 모델을 불러왔습니다.\")\n",
    "\n",
    "# 예측 수행\n",
    "y_pred = model.predict(X_test)\n",
    "\n",
    "# 성능 평가\n",
    "mae = mean_absolute_error(y_test, y_pred)\n",
    "rmse = np.sqrt(mean_squared_error(y_test, y_pred))\n",
    "r2 = r2_score(y_test, y_pred)\n",
    "\n",
    "print(\"📊 저장된 모델 예측 결과:\")\n",
    "print(f\"MAE  : {mae:.4f}\")\n",
    "print(f\"RMSE : {rmse:.4f}\")\n",
    "print(f\"R²   : {r2:.4f}\")\n"
   ]
  }
 ],
 "metadata": {
  "kernelspec": {
   "display_name": "base",
   "language": "python",
   "name": "python3"
  },
  "language_info": {
   "codemirror_mode": {
    "name": "ipython",
    "version": 3
   },
   "file_extension": ".py",
   "mimetype": "text/x-python",
   "name": "python",
   "nbconvert_exporter": "python",
   "pygments_lexer": "ipython3",
   "version": "3.12.3"
  }
 },
 "nbformat": 4,
 "nbformat_minor": 2
}
